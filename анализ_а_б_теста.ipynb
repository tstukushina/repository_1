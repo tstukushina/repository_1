{
 "cells": [
  {
   "cell_type": "markdown",
   "metadata": {
    "hide_input": true
   },
   "source": [
    "# Задача #1  условие\n",
    "\n",
    "Ниже даны результаты A/B-тестирования. \n",
    "\n",
    "Необходимо:\n",
    "\n",
    "- Проанализировать эксперимент в python\n",
    "- Оформить отчет в jupyter notebook со всеми расчетами\n",
    "- Описать свои действия и написать выводы, которые можно сделать на основе результатов\n",
    "\n",
    "\n",
    "### Описание колонок\n",
    "\n",
    "Каждая отдельная строка – индивидуальная сессия\n",
    "\n",
    "- `date` – Дата\n",
    "- `deviceCategory` – Тип устройства\n",
    "- `sourceMedium` – Источник и канал привлечения\n",
    "- `experimentVariant` – Группа (варианта) эксперимента, в которую был определен пользователь\n",
    "- `clickButtonOnMain` – Кликнул/не кликнул по кнопке на главной странице в рамках сеанса (1 – кликнул, или 0 – не кликнул)\n",
    "- `sessionDuration` – Время проведенное на сайте в рамках сеанса\n"
   ]
  },
  {
   "cell_type": "markdown",
   "metadata": {},
   "source": [
    "## Подготовительные работы\n",
    "    Импортируем нужные библиотеки. Запишем нужные функции"
   ]
  },
  {
   "cell_type": "code",
   "execution_count": 24,
   "metadata": {
    "hide_input": false
   },
   "outputs": [],
   "source": [
    "import numpy as np\n",
    "import pandas as pd\n",
    "from scipy.stats import norm\n",
    "import scipy.stats as stats\n",
    "import matplotlib.pyplot as plt\n",
    "import seaborn as sns\n",
    "from scipy.stats import norm, chi2_contingency\n",
    "import statsmodels.api as sm\n",
    "from tqdm.auto import tqdm\n",
    "sns.set(\n",
    "    font_scale=2,\n",
    "    style=\"whitegrid\",\n",
    "    rc={'figure.figsize':(20,7)}\n",
    "        )\n",
    "plt.style.use('ggplot')"
   ]
  },
  {
   "cell_type": "code",
   "execution_count": 25,
   "metadata": {},
   "outputs": [],
   "source": [
    "# Функция с KARPOV.COURSES, модуль статистики \n",
    "def get_bootstrap(\n",
    "    data_column_1, # числовые значения первой выборки\n",
    "    data_column_2, # числовые значения второй выборки\n",
    "    boot_it = 1000, # количество бутстрэп-подвыборок\n",
    "    statistic = np.mean, # интересующая нас статистика\n",
    "    bootstrap_conf_level = 0.95 # уровень значимости\n",
    "):\n",
    "    boot_len = max([len(data_column_1), len(data_column_2)])\n",
    "    boot_data = []\n",
    "    for i in tqdm(range(boot_it)): # извлекаем подвыборки\n",
    "        samples_1 = data_column_1.sample(\n",
    "            boot_len, \n",
    "            replace = True # параметр возвращения\n",
    "        ).values\n",
    "        \n",
    "        samples_2 = data_column_2.sample(\n",
    "            boot_len, \n",
    "            replace = True\n",
    "        ).values\n",
    "        \n",
    "        boot_data.append(statistic(samples_1-samples_2)) # mean() - применяем статистику\n",
    "        \n",
    "    pd_boot_data = pd.DataFrame(boot_data)\n",
    "        \n",
    "    left_quant = (1 - bootstrap_conf_level)/2\n",
    "    right_quant = 1 - (1 - bootstrap_conf_level) / 2\n",
    "    quants = pd_boot_data.quantile([left_quant, right_quant])\n",
    "        \n",
    "    p_1 = norm.cdf(\n",
    "        x = 0, \n",
    "        loc = np.mean(boot_data), \n",
    "        scale = np.std(boot_data)\n",
    "    )\n",
    "    p_2 = norm.cdf(\n",
    "        x = 0, \n",
    "        loc = -np.mean(boot_data), \n",
    "        scale = np.std(boot_data)\n",
    "    )\n",
    "    p_value = min(p_1, p_2) * 2\n",
    "        \n",
    "    # Визуализация\n",
    "    _, _, bars = plt.hist(pd_boot_data[0], bins = 50)\n",
    "    for bar in bars:\n",
    "        if abs(bar.get_x()) <= quants.iloc[0][0] or abs(bar.get_x()) >= quants.iloc[1][0]:\n",
    "            bar.set_facecolor('red')\n",
    "        else: \n",
    "            bar.set_facecolor('grey')\n",
    "            bar.set_edgecolor('black')\n",
    "    \n",
    "    plt.style.use('ggplot')\n",
    "    plt.vlines(quants,ymin=0,ymax=50,linestyle='--')\n",
    "    plt.xlabel('boot_data')\n",
    "    plt.ylabel('frequency')\n",
    "    plt.title(\"Histogram of boot_data\")\n",
    "    plt.show()\n",
    "    \n",
    "    return {\"boot_data\": boot_data, \n",
    "            \"quants\": quants, \n",
    "            \"p_value\": p_value}"
   ]
  },
  {
   "cell_type": "markdown",
   "metadata": {},
   "source": [
    "## Попялимя на данные :)\n",
    "    Посмотрим на данные и подготовим их к работе"
   ]
  },
  {
   "cell_type": "code",
   "execution_count": 26,
   "metadata": {},
   "outputs": [
    {
     "name": "stdout",
     "output_type": "stream",
     "text": [
      "date                 object\n",
      "deviceCategory       object\n",
      "sourceMedium         object\n",
      "experimentVariant    object\n",
      "clickButtonOnMain     int64\n",
      "sessionDuration      object\n",
      "dtype: object\n"
     ]
    },
    {
     "data": {
      "text/html": [
       "<div>\n",
       "<style scoped>\n",
       "    .dataframe tbody tr th:only-of-type {\n",
       "        vertical-align: middle;\n",
       "    }\n",
       "\n",
       "    .dataframe tbody tr th {\n",
       "        vertical-align: top;\n",
       "    }\n",
       "\n",
       "    .dataframe thead th {\n",
       "        text-align: right;\n",
       "    }\n",
       "</style>\n",
       "<table border=\"1\" class=\"dataframe\">\n",
       "  <thead>\n",
       "    <tr style=\"text-align: right;\">\n",
       "      <th></th>\n",
       "      <th>date</th>\n",
       "      <th>deviceCategory</th>\n",
       "      <th>sourceMedium</th>\n",
       "      <th>experimentVariant</th>\n",
       "      <th>clickButtonOnMain</th>\n",
       "      <th>sessionDuration</th>\n",
       "    </tr>\n",
       "  </thead>\n",
       "  <tbody>\n",
       "    <tr>\n",
       "      <th>1</th>\n",
       "      <td>2019-11-27</td>\n",
       "      <td>desktop</td>\n",
       "      <td>(direct) / (none)</td>\n",
       "      <td>control</td>\n",
       "      <td>1</td>\n",
       "      <td>123,109764978127</td>\n",
       "    </tr>\n",
       "    <tr>\n",
       "      <th>2</th>\n",
       "      <td>2019-11-27</td>\n",
       "      <td>mobile</td>\n",
       "      <td>maz.com / referral</td>\n",
       "      <td>test</td>\n",
       "      <td>1</td>\n",
       "      <td>135,604000573899</td>\n",
       "    </tr>\n",
       "    <tr>\n",
       "      <th>3</th>\n",
       "      <td>2019-11-27</td>\n",
       "      <td>mobile</td>\n",
       "      <td>(direct) / (none)</td>\n",
       "      <td>test</td>\n",
       "      <td>1</td>\n",
       "      <td>134,451016589043</td>\n",
       "    </tr>\n",
       "    <tr>\n",
       "      <th>4</th>\n",
       "      <td>2019-11-27</td>\n",
       "      <td>desktop</td>\n",
       "      <td>google / organic</td>\n",
       "      <td>test</td>\n",
       "      <td>1</td>\n",
       "      <td>130,691086592426</td>\n",
       "    </tr>\n",
       "    <tr>\n",
       "      <th>5</th>\n",
       "      <td>2019-11-27</td>\n",
       "      <td>mobile</td>\n",
       "      <td>google / organic</td>\n",
       "      <td>control</td>\n",
       "      <td>1</td>\n",
       "      <td>117,617311178722</td>\n",
       "    </tr>\n",
       "  </tbody>\n",
       "</table>\n",
       "</div>"
      ],
      "text/plain": [
       "         date deviceCategory        sourceMedium experimentVariant  \\\n",
       "1  2019-11-27        desktop   (direct) / (none)           control   \n",
       "2  2019-11-27         mobile  maz.com / referral              test   \n",
       "3  2019-11-27         mobile   (direct) / (none)              test   \n",
       "4  2019-11-27        desktop    google / organic              test   \n",
       "5  2019-11-27         mobile    google / organic           control   \n",
       "\n",
       "   clickButtonOnMain   sessionDuration  \n",
       "1                  1  123,109764978127  \n",
       "2                  1  135,604000573899  \n",
       "3                  1  134,451016589043  \n",
       "4                  1  130,691086592426  \n",
       "5                  1  117,617311178722  "
      ]
     },
     "execution_count": 26,
     "metadata": {},
     "output_type": "execute_result"
    }
   ],
   "source": [
    "df = pd.read_csv('test_analyst_ab.csv', sep = ';',index_col=0) \n",
    "print(df.dtypes)\n",
    "df.head()"
   ]
  },
  {
   "cell_type": "code",
   "execution_count": 27,
   "metadata": {},
   "outputs": [],
   "source": [
    "df.sessionDuration = df.sessionDuration.replace(',','.', regex = True).astype(float)\n",
    "df = df.astype({'clickButtonOnMain':'int'})"
   ]
  },
  {
   "cell_type": "markdown",
   "metadata": {},
   "source": [
    "Посмотрим, присутствуют ли пропуски в данных  "
   ]
  },
  {
   "cell_type": "code",
   "execution_count": 28,
   "metadata": {},
   "outputs": [
    {
     "data": {
      "text/plain": [
       "date                 0\n",
       "deviceCategory       0\n",
       "sourceMedium         0\n",
       "experimentVariant    0\n",
       "clickButtonOnMain    0\n",
       "sessionDuration      0\n",
       "dtype: int64"
      ]
     },
     "execution_count": 28,
     "metadata": {},
     "output_type": "execute_result"
    }
   ],
   "source": [
    "df.isna().sum() "
   ]
  },
  {
   "cell_type": "code",
   "execution_count": 29,
   "metadata": {},
   "outputs": [
    {
     "data": {
      "text/html": [
       "<div>\n",
       "<style scoped>\n",
       "    .dataframe tbody tr th:only-of-type {\n",
       "        vertical-align: middle;\n",
       "    }\n",
       "\n",
       "    .dataframe tbody tr th {\n",
       "        vertical-align: top;\n",
       "    }\n",
       "\n",
       "    .dataframe thead th {\n",
       "        text-align: right;\n",
       "    }\n",
       "</style>\n",
       "<table border=\"1\" class=\"dataframe\">\n",
       "  <thead>\n",
       "    <tr style=\"text-align: right;\">\n",
       "      <th></th>\n",
       "      <th>experimentVariant</th>\n",
       "      <th>conv_in_clik</th>\n",
       "      <th>size_of_sample</th>\n",
       "    </tr>\n",
       "  </thead>\n",
       "  <tbody>\n",
       "    <tr>\n",
       "      <th>0</th>\n",
       "      <td>control</td>\n",
       "      <td>0.129</td>\n",
       "      <td>1485</td>\n",
       "    </tr>\n",
       "    <tr>\n",
       "      <th>1</th>\n",
       "      <td>test</td>\n",
       "      <td>0.091</td>\n",
       "      <td>1458</td>\n",
       "    </tr>\n",
       "  </tbody>\n",
       "</table>\n",
       "</div>"
      ],
      "text/plain": [
       "  experimentVariant  conv_in_clik  size_of_sample\n",
       "0           control         0.129            1485\n",
       "1              test         0.091            1458"
      ]
     },
     "execution_count": 29,
     "metadata": {},
     "output_type": "execute_result"
    }
   ],
   "source": [
    "df.groupby(['experimentVariant'], as_index = False)\\\n",
    "        .agg({'clickButtonOnMain':'mean', 'date':'count'})\\\n",
    "        .rename(columns = {'clickButtonOnMain':'conv_in_clik', 'date':'size_of_sample'})\\\n",
    "        .round(3)\n"
   ]
  },
  {
   "cell_type": "markdown",
   "metadata": {},
   "source": [
    "На первый взгляд конверт в клики упал\n",
    "\n",
    "Как изменилось время проведенное на сайте?"
   ]
  },
  {
   "cell_type": "code",
   "execution_count": 30,
   "metadata": {},
   "outputs": [
    {
     "data": {
      "text/html": [
       "<div>\n",
       "<style scoped>\n",
       "    .dataframe tbody tr th:only-of-type {\n",
       "        vertical-align: middle;\n",
       "    }\n",
       "\n",
       "    .dataframe tbody tr th {\n",
       "        vertical-align: top;\n",
       "    }\n",
       "\n",
       "    .dataframe thead tr th {\n",
       "        text-align: left;\n",
       "    }\n",
       "\n",
       "    .dataframe thead tr:last-of-type th {\n",
       "        text-align: right;\n",
       "    }\n",
       "</style>\n",
       "<table border=\"1\" class=\"dataframe\">\n",
       "  <thead>\n",
       "    <tr>\n",
       "      <th></th>\n",
       "      <th></th>\n",
       "      <th colspan=\"8\" halign=\"left\">sessionDuration</th>\n",
       "    </tr>\n",
       "    <tr>\n",
       "      <th></th>\n",
       "      <th></th>\n",
       "      <th>count</th>\n",
       "      <th>mean</th>\n",
       "      <th>std</th>\n",
       "      <th>min</th>\n",
       "      <th>25%</th>\n",
       "      <th>50%</th>\n",
       "      <th>75%</th>\n",
       "      <th>max</th>\n",
       "    </tr>\n",
       "    <tr>\n",
       "      <th>clickButtonOnMain</th>\n",
       "      <th>experimentVariant</th>\n",
       "      <th></th>\n",
       "      <th></th>\n",
       "      <th></th>\n",
       "      <th></th>\n",
       "      <th></th>\n",
       "      <th></th>\n",
       "      <th></th>\n",
       "      <th></th>\n",
       "    </tr>\n",
       "  </thead>\n",
       "  <tbody>\n",
       "    <tr>\n",
       "      <th rowspan=\"2\" valign=\"top\">0</th>\n",
       "      <th>control</th>\n",
       "      <td>1293.0</td>\n",
       "      <td>119.968498</td>\n",
       "      <td>5.192786</td>\n",
       "      <td>100.238001</td>\n",
       "      <td>116.454786</td>\n",
       "      <td>120.059406</td>\n",
       "      <td>123.606190</td>\n",
       "      <td>134.806096</td>\n",
       "    </tr>\n",
       "    <tr>\n",
       "      <th>test</th>\n",
       "      <td>1325.0</td>\n",
       "      <td>133.075376</td>\n",
       "      <td>9.785845</td>\n",
       "      <td>102.340016</td>\n",
       "      <td>126.413028</td>\n",
       "      <td>133.106863</td>\n",
       "      <td>139.793916</td>\n",
       "      <td>163.630651</td>\n",
       "    </tr>\n",
       "    <tr>\n",
       "      <th rowspan=\"2\" valign=\"top\">1</th>\n",
       "      <th>control</th>\n",
       "      <td>192.0</td>\n",
       "      <td>120.506356</td>\n",
       "      <td>5.108863</td>\n",
       "      <td>103.369246</td>\n",
       "      <td>117.361998</td>\n",
       "      <td>120.523727</td>\n",
       "      <td>124.408532</td>\n",
       "      <td>131.585202</td>\n",
       "    </tr>\n",
       "    <tr>\n",
       "      <th>test</th>\n",
       "      <td>133.0</td>\n",
       "      <td>132.898294</td>\n",
       "      <td>8.830703</td>\n",
       "      <td>112.638334</td>\n",
       "      <td>127.450818</td>\n",
       "      <td>133.155712</td>\n",
       "      <td>138.278186</td>\n",
       "      <td>152.939493</td>\n",
       "    </tr>\n",
       "  </tbody>\n",
       "</table>\n",
       "</div>"
      ],
      "text/plain": [
       "                                    sessionDuration                        \\\n",
       "                                              count        mean       std   \n",
       "clickButtonOnMain experimentVariant                                         \n",
       "0                 control                    1293.0  119.968498  5.192786   \n",
       "                  test                       1325.0  133.075376  9.785845   \n",
       "1                 control                     192.0  120.506356  5.108863   \n",
       "                  test                        133.0  132.898294  8.830703   \n",
       "\n",
       "                                                                         \\\n",
       "                                            min         25%         50%   \n",
       "clickButtonOnMain experimentVariant                                       \n",
       "0                 control            100.238001  116.454786  120.059406   \n",
       "                  test               102.340016  126.413028  133.106863   \n",
       "1                 control            103.369246  117.361998  120.523727   \n",
       "                  test               112.638334  127.450818  133.155712   \n",
       "\n",
       "                                                             \n",
       "                                            75%         max  \n",
       "clickButtonOnMain experimentVariant                          \n",
       "0                 control            123.606190  134.806096  \n",
       "                  test               139.793916  163.630651  \n",
       "1                 control            124.408532  131.585202  \n",
       "                  test               138.278186  152.939493  "
      ]
     },
     "execution_count": 30,
     "metadata": {},
     "output_type": "execute_result"
    }
   ],
   "source": [
    "df.groupby(['clickButtonOnMain','experimentVariant']).describe()\n"
   ]
  },
  {
   "cell_type": "markdown",
   "metadata": {},
   "source": [
    "В целом замечаем, что время, проведенное на сайте в рамках сеанса, увеличилось как у пользователей, которые нажали на кнопку, так и у тех, кто не нажал. Разброс времени тоже увеличился"
   ]
  },
  {
   "cell_type": "markdown",
   "metadata": {},
   "source": [
    "Идем дальше. На всех ли устройствах уменьшился конверт в клики?"
   ]
  },
  {
   "cell_type": "code",
   "execution_count": 31,
   "metadata": {},
   "outputs": [
    {
     "data": {
      "text/html": [
       "<div>\n",
       "<style scoped>\n",
       "    .dataframe tbody tr th:only-of-type {\n",
       "        vertical-align: middle;\n",
       "    }\n",
       "\n",
       "    .dataframe tbody tr th {\n",
       "        vertical-align: top;\n",
       "    }\n",
       "\n",
       "    .dataframe thead th {\n",
       "        text-align: right;\n",
       "    }\n",
       "</style>\n",
       "<table border=\"1\" class=\"dataframe\">\n",
       "  <thead>\n",
       "    <tr style=\"text-align: right;\">\n",
       "      <th></th>\n",
       "      <th>deviceCategory</th>\n",
       "      <th>experimentVariant</th>\n",
       "      <th>conv_in_clik</th>\n",
       "      <th>median_sessionDuration</th>\n",
       "      <th>size_of_subsample</th>\n",
       "      <th>share_of_users</th>\n",
       "    </tr>\n",
       "  </thead>\n",
       "  <tbody>\n",
       "    <tr>\n",
       "      <th>0</th>\n",
       "      <td>desktop</td>\n",
       "      <td>control</td>\n",
       "      <td>0.123</td>\n",
       "      <td>119.696</td>\n",
       "      <td>562</td>\n",
       "      <td>37.845</td>\n",
       "    </tr>\n",
       "    <tr>\n",
       "      <th>1</th>\n",
       "      <td>desktop</td>\n",
       "      <td>test</td>\n",
       "      <td>0.101</td>\n",
       "      <td>133.632</td>\n",
       "      <td>507</td>\n",
       "      <td>34.774</td>\n",
       "    </tr>\n",
       "    <tr>\n",
       "      <th>2</th>\n",
       "      <td>mobile</td>\n",
       "      <td>control</td>\n",
       "      <td>0.130</td>\n",
       "      <td>120.339</td>\n",
       "      <td>857</td>\n",
       "      <td>57.710</td>\n",
       "    </tr>\n",
       "    <tr>\n",
       "      <th>3</th>\n",
       "      <td>mobile</td>\n",
       "      <td>test</td>\n",
       "      <td>0.082</td>\n",
       "      <td>133.077</td>\n",
       "      <td>885</td>\n",
       "      <td>60.700</td>\n",
       "    </tr>\n",
       "    <tr>\n",
       "      <th>4</th>\n",
       "      <td>tablet</td>\n",
       "      <td>control</td>\n",
       "      <td>0.182</td>\n",
       "      <td>119.706</td>\n",
       "      <td>66</td>\n",
       "      <td>4.444</td>\n",
       "    </tr>\n",
       "    <tr>\n",
       "      <th>5</th>\n",
       "      <td>tablet</td>\n",
       "      <td>test</td>\n",
       "      <td>0.136</td>\n",
       "      <td>131.829</td>\n",
       "      <td>66</td>\n",
       "      <td>4.527</td>\n",
       "    </tr>\n",
       "  </tbody>\n",
       "</table>\n",
       "</div>"
      ],
      "text/plain": [
       "  deviceCategory experimentVariant  conv_in_clik  median_sessionDuration  \\\n",
       "0        desktop           control         0.123                 119.696   \n",
       "1        desktop              test         0.101                 133.632   \n",
       "2         mobile           control         0.130                 120.339   \n",
       "3         mobile              test         0.082                 133.077   \n",
       "4         tablet           control         0.182                 119.706   \n",
       "5         tablet              test         0.136                 131.829   \n",
       "\n",
       "   size_of_subsample  share_of_users  \n",
       "0                562          37.845  \n",
       "1                507          34.774  \n",
       "2                857          57.710  \n",
       "3                885          60.700  \n",
       "4                 66           4.444  \n",
       "5                 66           4.527  "
      ]
     },
     "execution_count": 31,
     "metadata": {},
     "output_type": "execute_result"
    }
   ],
   "source": [
    "device = df.groupby(['deviceCategory','experimentVariant'], as_index = False)\\\n",
    "    .agg({'clickButtonOnMain':'mean', 'sessionDuration':'median', 'date':'count'})\\\n",
    "    .rename(columns = {'clickButtonOnMain':'conv_in_clik', 'date':'size_of_subsample','sessionDuration':'median_sessionDuration'})\n",
    "device['share_of_users'] = device.apply(lambda x:x['size_of_subsample']/1458 if x['experimentVariant'] == \"test\" \n",
    "                                                else x['size_of_subsample']/1485, axis = 1 )*100\n",
    "device.round(3)"
   ]
  },
  {
   "cell_type": "markdown",
   "metadata": {},
   "source": [
    "Не имеется жестких отклонений в соотношении юзеров по типу устройств\n",
    "\n",
    "Видим, что по каждому типу устройств конверт в клик у тестовой группы  ниже.\n",
    "Среднее время сессии напротив выше"
   ]
  },
  {
   "cell_type": "markdown",
   "metadata": {},
   "source": [
    "Как конверт в клики себя вел себя за время эксперимента? "
   ]
  },
  {
   "cell_type": "code",
   "execution_count": 32,
   "metadata": {},
   "outputs": [
    {
     "data": {
      "text/plain": [
       "<matplotlib.axes._subplots.AxesSubplot at 0x29a5870ed30>"
      ]
     },
     "execution_count": 32,
     "metadata": {},
     "output_type": "execute_result"
    },
    {
     "data": {
      "image/png": "[encoded data removed]",
      "text/plain": [
       "<Figure size 1440x504 with 1 Axes>"
      ]
     },
     "metadata": {},
     "output_type": "display_data"
    }
   ],
   "source": [
    "df_1 = df.groupby(['date','experimentVariant'], as_index = False)\\\n",
    "    .agg({'clickButtonOnMain':'mean', 'sessionDuration':'count'})\n",
    "sns.lineplot(data=df_1, x=\"date\", y=\"clickButtonOnMain\" , hue=\"experimentVariant\")"
   ]
  },
  {
   "cell_type": "markdown",
   "metadata": {},
   "source": [
    "Имеются дни, когда конверт в клики был выше у тестовой группы. "
   ]
  },
  {
   "cell_type": "code",
   "execution_count": 33,
   "metadata": {},
   "outputs": [
    {
     "data": {
      "text/plain": [
       "<matplotlib.axes._subplots.AxesSubplot at 0x29a587070d0>"
      ]
     },
     "execution_count": 33,
     "metadata": {},
     "output_type": "execute_result"
    },
    {
     "data": {
      "image/png": "[encoded data removed]",
      "text/plain": [
       "<Figure size 1440x504 with 1 Axes>"
      ]
     },
     "metadata": {},
     "output_type": "display_data"
    }
   ],
   "source": [
    "df_2 = df.groupby(['date','experimentVariant'], as_index = False)\\\n",
    "    .agg({'sessionDuration':'median' })\n",
    "sns.lineplot(data=df_2, x=\"date\", y='sessionDuration' , hue=\"experimentVariant\")"
   ]
  },
  {
   "cell_type": "markdown",
   "metadata": {},
   "source": [
    "В целом видим что среднее время сессии у тестовой группы за весь период  было выше"
   ]
  },
  {
   "cell_type": "markdown",
   "metadata": {},
   "source": [
    "Посмотрим что там с sourceMedium. Рассмотрим тех, чья доля юзеров составляет более 2% юзеров"
   ]
  },
  {
   "cell_type": "code",
   "execution_count": 34,
   "metadata": {},
   "outputs": [
    {
     "data": {
      "text/html": [
       "<div>\n",
       "<style scoped>\n",
       "    .dataframe tbody tr th:only-of-type {\n",
       "        vertical-align: middle;\n",
       "    }\n",
       "\n",
       "    .dataframe tbody tr th {\n",
       "        vertical-align: top;\n",
       "    }\n",
       "\n",
       "    .dataframe thead th {\n",
       "        text-align: right;\n",
       "    }\n",
       "</style>\n",
       "<table border=\"1\" class=\"dataframe\">\n",
       "  <thead>\n",
       "    <tr style=\"text-align: right;\">\n",
       "      <th></th>\n",
       "      <th>sourceMedium</th>\n",
       "      <th>experimentVariant</th>\n",
       "      <th>conv_in_clik</th>\n",
       "      <th>median_sessionDuration</th>\n",
       "      <th>size_of_subsample</th>\n",
       "      <th>share_of_users</th>\n",
       "    </tr>\n",
       "  </thead>\n",
       "  <tbody>\n",
       "    <tr>\n",
       "      <th>0</th>\n",
       "      <td>(direct) / (none)</td>\n",
       "      <td>control</td>\n",
       "      <td>0.120</td>\n",
       "      <td>119.913</td>\n",
       "      <td>209</td>\n",
       "      <td>14.074</td>\n",
       "    </tr>\n",
       "    <tr>\n",
       "      <th>1</th>\n",
       "      <td>(direct) / (none)</td>\n",
       "      <td>test</td>\n",
       "      <td>0.102</td>\n",
       "      <td>132.216</td>\n",
       "      <td>205</td>\n",
       "      <td>14.060</td>\n",
       "    </tr>\n",
       "    <tr>\n",
       "      <th>3</th>\n",
       "      <td>bernum.com / referral</td>\n",
       "      <td>control</td>\n",
       "      <td>0.313</td>\n",
       "      <td>120.269</td>\n",
       "      <td>201</td>\n",
       "      <td>13.535</td>\n",
       "    </tr>\n",
       "    <tr>\n",
       "      <th>4</th>\n",
       "      <td>bernum.com / referral</td>\n",
       "      <td>test</td>\n",
       "      <td>0.153</td>\n",
       "      <td>133.647</td>\n",
       "      <td>131</td>\n",
       "      <td>8.985</td>\n",
       "    </tr>\n",
       "    <tr>\n",
       "      <th>19</th>\n",
       "      <td>google / cpc</td>\n",
       "      <td>control</td>\n",
       "      <td>0.048</td>\n",
       "      <td>120.042</td>\n",
       "      <td>147</td>\n",
       "      <td>9.899</td>\n",
       "    </tr>\n",
       "    <tr>\n",
       "      <th>20</th>\n",
       "      <td>google / cpc</td>\n",
       "      <td>test</td>\n",
       "      <td>0.066</td>\n",
       "      <td>132.888</td>\n",
       "      <td>152</td>\n",
       "      <td>10.425</td>\n",
       "    </tr>\n",
       "    <tr>\n",
       "      <th>21</th>\n",
       "      <td>google / organic</td>\n",
       "      <td>control</td>\n",
       "      <td>0.184</td>\n",
       "      <td>120.666</td>\n",
       "      <td>244</td>\n",
       "      <td>16.431</td>\n",
       "    </tr>\n",
       "    <tr>\n",
       "      <th>22</th>\n",
       "      <td>google / organic</td>\n",
       "      <td>test</td>\n",
       "      <td>0.184</td>\n",
       "      <td>132.601</td>\n",
       "      <td>256</td>\n",
       "      <td>17.558</td>\n",
       "    </tr>\n",
       "    <tr>\n",
       "      <th>32</th>\n",
       "      <td>maz.com / referral</td>\n",
       "      <td>control</td>\n",
       "      <td>0.065</td>\n",
       "      <td>119.716</td>\n",
       "      <td>612</td>\n",
       "      <td>41.212</td>\n",
       "    </tr>\n",
       "    <tr>\n",
       "      <th>33</th>\n",
       "      <td>maz.com / referral</td>\n",
       "      <td>test</td>\n",
       "      <td>0.034</td>\n",
       "      <td>133.695</td>\n",
       "      <td>647</td>\n",
       "      <td>44.376</td>\n",
       "    </tr>\n",
       "  </tbody>\n",
       "</table>\n",
       "</div>"
      ],
      "text/plain": [
       "             sourceMedium experimentVariant  conv_in_clik  \\\n",
       "0       (direct) / (none)           control         0.120   \n",
       "1       (direct) / (none)              test         0.102   \n",
       "3   bernum.com / referral           control         0.313   \n",
       "4   bernum.com / referral              test         0.153   \n",
       "19           google / cpc           control         0.048   \n",
       "20           google / cpc              test         0.066   \n",
       "21       google / organic           control         0.184   \n",
       "22       google / organic              test         0.184   \n",
       "32     maz.com / referral           control         0.065   \n",
       "33     maz.com / referral              test         0.034   \n",
       "\n",
       "    median_sessionDuration  size_of_subsample  share_of_users  \n",
       "0                  119.913                209          14.074  \n",
       "1                  132.216                205          14.060  \n",
       "3                  120.269                201          13.535  \n",
       "4                  133.647                131           8.985  \n",
       "19                 120.042                147           9.899  \n",
       "20                 132.888                152          10.425  \n",
       "21                 120.666                244          16.431  \n",
       "22                 132.601                256          17.558  \n",
       "32                 119.716                612          41.212  \n",
       "33                 133.695                647          44.376  "
      ]
     },
     "execution_count": 34,
     "metadata": {},
     "output_type": "execute_result"
    }
   ],
   "source": [
    "source = df.groupby(['sourceMedium','experimentVariant'], as_index = False)\\\n",
    "    .agg({'clickButtonOnMain':'mean', 'sessionDuration':'median', 'date':'count'})\\\n",
    "    .rename(columns = {'clickButtonOnMain':'conv_in_clik', 'date':'size_of_subsample','sessionDuration':'median_sessionDuration'})\n",
    "source['share_of_users'] = source.apply(lambda x:x['size_of_subsample']/1458 if x['experimentVariant'] == \"test\"\n",
    "                                                    else x['size_of_subsample']/1485, axis = 1 )*100\n",
    "source.round(3).query('share_of_users>2')"
   ]
  },
  {
   "cell_type": "markdown",
   "metadata": {},
   "source": [
    "Не у каждого канала привлечения уменьшился коверт в клики. При этом время сессии у всех выросло\n",
    "\n",
    "Более 40% юзеров с maz.com / referral, при этом конверт в клики у них достаточно низкий. Отдельно посмотрим экстперемент без данного канала привлечения "
   ]
  },
  {
   "cell_type": "code",
   "execution_count": 35,
   "metadata": {},
   "outputs": [
    {
     "data": {
      "text/html": [
       "<div>\n",
       "<style scoped>\n",
       "    .dataframe tbody tr th:only-of-type {\n",
       "        vertical-align: middle;\n",
       "    }\n",
       "\n",
       "    .dataframe tbody tr th {\n",
       "        vertical-align: top;\n",
       "    }\n",
       "\n",
       "    .dataframe thead th {\n",
       "        text-align: right;\n",
       "    }\n",
       "</style>\n",
       "<table border=\"1\" class=\"dataframe\">\n",
       "  <thead>\n",
       "    <tr style=\"text-align: right;\">\n",
       "      <th></th>\n",
       "      <th>experimentVariant</th>\n",
       "      <th>conv_in_clik</th>\n",
       "      <th>size_of_sample</th>\n",
       "    </tr>\n",
       "  </thead>\n",
       "  <tbody>\n",
       "    <tr>\n",
       "      <th>0</th>\n",
       "      <td>control</td>\n",
       "      <td>0.174</td>\n",
       "      <td>873</td>\n",
       "    </tr>\n",
       "    <tr>\n",
       "      <th>1</th>\n",
       "      <td>test</td>\n",
       "      <td>0.137</td>\n",
       "      <td>811</td>\n",
       "    </tr>\n",
       "  </tbody>\n",
       "</table>\n",
       "</div>"
      ],
      "text/plain": [
       "  experimentVariant  conv_in_clik  size_of_sample\n",
       "0           control         0.174             873\n",
       "1              test         0.137             811"
      ]
     },
     "execution_count": 35,
     "metadata": {},
     "output_type": "execute_result"
    }
   ],
   "source": [
    "df.query('sourceMedium != \"maz.com / referral\"').groupby(['experimentVariant'], as_index = False)\\\n",
    "    .agg({'clickButtonOnMain':'mean', 'date':'count'})\\\n",
    "    .rename(columns = {'clickButtonOnMain':'conv_in_clik', 'date':'size_of_sample'})\\\n",
    "    .round(3)\n"
   ]
  },
  {
   "cell_type": "markdown",
   "metadata": {},
   "source": [
    "## Гипотезы\n",
    "\n",
    "    1. Конверт в клики у тестовой группы ниже, чем у контрольной\n",
    "    2. Среднее время сессии у тестовой группы выше, чем у контрольной\n",
    "    \n",
    "    Уровень значимости возьмем равным 95%"
   ]
  },
  {
   "cell_type": "markdown",
   "metadata": {},
   "source": [
    "### Гипотеза #2\n",
    "\n",
    "Посмотрим на распределение sessionDuration. Далее поймем, какой статистический метод будет лучше принять для проверки гипотезы. "
   ]
  },
  {
   "cell_type": "code",
   "execution_count": 36,
   "metadata": {},
   "outputs": [
    {
     "data": {
      "text/plain": [
       "experimentVariant\n",
       "control    AxesSubplot(0.125,0.125;0.775x0.755)\n",
       "test       AxesSubplot(0.125,0.125;0.775x0.755)\n",
       "Name: sessionDuration, dtype: object"
      ]
     },
     "execution_count": 36,
     "metadata": {},
     "output_type": "execute_result"
    },
    {
     "data": {
      "image/png": "[encoded data removed]",
      "text/plain": [
       "<Figure size 1440x504 with 1 Axes>"
      ]
     },
     "metadata": {},
     "output_type": "display_data"
    }
   ],
   "source": [
    "df.groupby('experimentVariant')['sessionDuration'].hist( bins =30, alpha =0.6)"
   ]
  },
  {
   "cell_type": "code",
   "execution_count": 37,
   "metadata": {},
   "outputs": [
    {
     "data": {
      "text/plain": [
       "control         AxesSubplot(0.1,0.15;0.363636x0.75)\n",
       "test       AxesSubplot(0.536364,0.15;0.363636x0.75)\n",
       "dtype: object"
      ]
     },
     "execution_count": 37,
     "metadata": {},
     "output_type": "execute_result"
    },
    {
     "data": {
      "image/png": "[encoded data removed]",
      "text/plain": [
       "<Figure size 1080x720 with 2 Axes>"
      ]
     },
     "metadata": {},
     "output_type": "display_data"
    }
   ],
   "source": [
    "df[['sessionDuration','experimentVariant']].groupby(['experimentVariant',]).boxplot( fontsize=14, figsize=(15,10))"
   ]
  },
  {
   "cell_type": "markdown",
   "metadata": {},
   "source": [
    "В целом распределение похоже на нормальное, сильных выбросов не наблюдаем.\n",
    "\n",
    "Кажется, что у тестовой группы больший разброс, что было видно на подготовительном изучении\n",
    " "
   ]
  },
  {
   "cell_type": "markdown",
   "metadata": {},
   "source": [
    "Проверим нормальность распределения выборки с помощью критерия Шапиро-Уилка.\n"
   ]
  },
  {
   "cell_type": "code",
   "execution_count": 38,
   "metadata": {},
   "outputs": [],
   "source": [
    "x = df.query('experimentVariant == \"control\"').sessionDuration\n",
    "y = df.query('experimentVariant == \"test\"').sessionDuration"
   ]
  },
  {
   "cell_type": "code",
   "execution_count": 39,
   "metadata": {},
   "outputs": [
    {
     "name": "stdout",
     "output_type": "stream",
     "text": [
      "Критерий выборки Шапиро-Уилка control p-value:  0.138\n",
      "Критерий выборки Шапиро-Уилка test p-value:  0.431\n"
     ]
    }
   ],
   "source": [
    "res = stats.shapiro(x)\n",
    "print('Критерий выборки Шапиро-Уилка control p-value: ', round(res[1],3))\n",
    "\n",
    "res = stats.shapiro(y)\n",
    "print('Критерий выборки Шапиро-Уилка test p-value: ', round(res[1],3))"
   ]
  },
  {
   "cell_type": "markdown",
   "metadata": {},
   "source": [
    "p-value получилось достаточно большим, поэтому у нас нет оснований отвергнуть гипотезу о нормальном распределении.\n",
    "\n",
    "#### Критерий Стьюдента\n",
    "\n",
    "Данные условно нормальны. Проверим c помощью критерия Флигнера-Килина, равны ли дисперсии"
   ]
  },
  {
   "cell_type": "code",
   "execution_count": 40,
   "metadata": {},
   "outputs": [
    {
     "name": "stdout",
     "output_type": "stream",
     "text": [
      "p-value:  2.8930452908569406e-82\n"
     ]
    }
   ],
   "source": [
    "res = stats.fligner(x, y)\n",
    "print('p-value: ', res[1])"
   ]
  },
  {
   "cell_type": "markdown",
   "metadata": {},
   "source": [
    "Значение p-value низкое, поэтому гипотезу о равенстве дисперсий отвергаем. В двух выборках находятся разные наблюдаемые объекты, то есть выборки несвязные.\n",
    "\n",
    "Проврим с помощью критерия Стьюдента равенство средних"
   ]
  },
  {
   "cell_type": "code",
   "execution_count": 41,
   "metadata": {},
   "outputs": [
    {
     "name": "stdout",
     "output_type": "stream",
     "text": [
      "p-value:  8.574658e-318\n"
     ]
    }
   ],
   "source": [
    "res = stats.ttest_ind(x, y, equal_var=False)\n",
    "print('p-value: ', res[1])"
   ]
  },
  {
   "cell_type": "markdown",
   "metadata": {},
   "source": [
    "p-value получилось очень маленьким, поэтому гипотезу о равенстве средних не принимаем.Т.е. тест статистически повлиял на среднее время, проведенное на сайте"
   ]
  },
  {
   "cell_type": "markdown",
   "metadata": {},
   "source": [
    "#### Бутстрап"
   ]
  },
  {
   "cell_type": "code",
   "execution_count": 42,
   "metadata": {},
   "outputs": [
    {
     "data": {
      "application/vnd.jupyter.widget-view+json": {
       "model_id": "9e13127b70c74074b71f04ad9ee5c95b",
       "version_major": 2,
       "version_minor": 0
      },
      "text/plain": [
       "HBox(children=(FloatProgress(value=0.0, max=1000.0), HTML(value='')))"
      ]
     },
     "metadata": {},
     "output_type": "display_data"
    },
    {
     "name": "stdout",
     "output_type": "stream",
     "text": [
      "\n"
     ]
    },
    {
     "data": {
      "image/png": "[encoded data removed]",
      "text/plain": [
       "<Figure size 1440x504 with 1 Axes>"
      ]
     },
     "metadata": {},
     "output_type": "display_data"
    },
    {
     "name": "stdout",
     "output_type": "stream",
     "text": [
      "p-value:  0.0\n"
     ]
    }
   ],
   "source": [
    "# x - это df.query('experimentVariant == \"control\"').sessionDuration\n",
    "# y - это df.query('experimentVariant == \"test\"').sessionDuration\n",
    "res = get_bootstrap(x, y)\n",
    "print('p-value: ', res[\"p_value\"]) \n"
   ]
  },
  {
   "cell_type": "markdown",
   "metadata": {},
   "source": [
    "p-value получилось очень маленьким.\n"
   ]
  },
  {
   "cell_type": "code",
   "execution_count": 43,
   "metadata": {},
   "outputs": [
    {
     "data": {
      "text/html": [
       "<div>\n",
       "<style scoped>\n",
       "    .dataframe tbody tr th:only-of-type {\n",
       "        vertical-align: middle;\n",
       "    }\n",
       "\n",
       "    .dataframe tbody tr th {\n",
       "        vertical-align: top;\n",
       "    }\n",
       "\n",
       "    .dataframe thead th {\n",
       "        text-align: right;\n",
       "    }\n",
       "</style>\n",
       "<table border=\"1\" class=\"dataframe\">\n",
       "  <thead>\n",
       "    <tr style=\"text-align: right;\">\n",
       "      <th></th>\n",
       "      <th>0</th>\n",
       "    </tr>\n",
       "  </thead>\n",
       "  <tbody>\n",
       "    <tr>\n",
       "      <th>0.025</th>\n",
       "      <td>-13.600618</td>\n",
       "    </tr>\n",
       "    <tr>\n",
       "      <th>0.975</th>\n",
       "      <td>-12.458181</td>\n",
       "    </tr>\n",
       "  </tbody>\n",
       "</table>\n",
       "</div>"
      ],
      "text/plain": [
       "               0\n",
       "0.025 -13.600618\n",
       "0.975 -12.458181"
      ]
     },
     "execution_count": 43,
     "metadata": {},
     "output_type": "execute_result"
    }
   ],
   "source": [
    "res[\"quants\"] "
   ]
  },
  {
   "cell_type": "markdown",
   "metadata": {},
   "source": [
    "ДИ не попадает в ноль => нулевую гипотезу не принимаем. Изменения статистически увеличили среднее время проведенное на сайте (разница средних контрольной и тестовой отрицптельное число)"
   ]
  },
  {
   "cell_type": "markdown",
   "metadata": {},
   "source": [
    "#### Итог\n",
    "Среднее время пребывания на сайте у тестовой группы статистически выше, чем у контрольной группы"
   ]
  },
  {
   "cell_type": "markdown",
   "metadata": {},
   "source": [
    "### Гипотеза #1"
   ]
  },
  {
   "cell_type": "markdown",
   "metadata": {},
   "source": [
    "Проверим гипотезу о том, что конверсия в клики у тестовой группы ниже чем у контрольной, с помощью одностороннего критерия Фишера"
   ]
  },
  {
   "cell_type": "markdown",
   "metadata": {},
   "source": [
    "#### Точный критерий Фишера\n"
   ]
  },
  {
   "cell_type": "code",
   "execution_count": 44,
   "metadata": {},
   "outputs": [
    {
     "data": {
      "text/html": [
       "<div>\n",
       "<style scoped>\n",
       "    .dataframe tbody tr th:only-of-type {\n",
       "        vertical-align: middle;\n",
       "    }\n",
       "\n",
       "    .dataframe tbody tr th {\n",
       "        vertical-align: top;\n",
       "    }\n",
       "\n",
       "    .dataframe thead th {\n",
       "        text-align: right;\n",
       "    }\n",
       "</style>\n",
       "<table border=\"1\" class=\"dataframe\">\n",
       "  <thead>\n",
       "    <tr style=\"text-align: right;\">\n",
       "      <th></th>\n",
       "      <th>experimentVariant</th>\n",
       "      <th>clickButtonOnMain</th>\n",
       "      <th>sessionDuration</th>\n",
       "    </tr>\n",
       "  </thead>\n",
       "  <tbody>\n",
       "    <tr>\n",
       "      <th>0</th>\n",
       "      <td>control</td>\n",
       "      <td>192</td>\n",
       "      <td>1485</td>\n",
       "    </tr>\n",
       "    <tr>\n",
       "      <th>1</th>\n",
       "      <td>test</td>\n",
       "      <td>133</td>\n",
       "      <td>1458</td>\n",
       "    </tr>\n",
       "  </tbody>\n",
       "</table>\n",
       "</div>"
      ],
      "text/plain": [
       "  experimentVariant  clickButtonOnMain  sessionDuration\n",
       "0           control                192             1485\n",
       "1              test                133             1458"
      ]
     },
     "execution_count": 44,
     "metadata": {},
     "output_type": "execute_result"
    }
   ],
   "source": [
    "data_1 = df.groupby(['experimentVariant'], as_index = False).agg({'clickButtonOnMain':'sum', 'sessionDuration':'count'})\n",
    "data_2 = df.query(' sourceMedium != \"maz.com / referral\"').groupby(['experimentVariant'], as_index = False)\\\n",
    "            .agg({'clickButtonOnMain':'sum', 'sessionDuration':'count'})\n",
    "data_1"
   ]
  },
  {
   "cell_type": "code",
   "execution_count": 45,
   "metadata": {},
   "outputs": [],
   "source": [
    "p = np.array([data_1.iloc[0][1], data_1.iloc[1][1]])\n",
    "n = np.array([data_1.iloc[0][2], data_1.iloc[1][2]])\n",
    " \n",
    "q = n - p"
   ]
  },
  {
   "cell_type": "code",
   "execution_count": 46,
   "metadata": {},
   "outputs": [
    {
     "name": "stdout",
     "output_type": "stream",
     "text": [
      "l p-value:  0.999613\n",
      "g p-value:  0.00059\n"
     ]
    }
   ],
   "source": [
    "res = stats.fisher_exact([ p, q], alternative = 'less')\n",
    "print('l p-value: ', round(res[1],6))\n",
    "res = stats.fisher_exact([ p, q], alternative = 'greater')\n",
    "print('g p-value: ', round(res[1],6))"
   ]
  },
  {
   "cell_type": "markdown",
   "metadata": {},
   "source": [
    "Нулевая гипотеза о том, что у тестовой группы конверт в клики меньше чем у контрольной, принимается \n",
    "\n",
    "Нулевая гипотеза о том, что у тестовой группы конверт в клики больше чем у контрольной, не принимается \n",
    "\n",
    "Изменения статистически уменьшили конверт в клики."
   ]
  },
  {
   "cell_type": "code",
   "execution_count": 47,
   "metadata": {},
   "outputs": [],
   "source": [
    "# res = stats.fisher_exact([ p, q])\n",
    "# # print('p-value: ', round(res[1],6))\n",
    "# p-value получился достаточно маленькое, поэтому нулевая гипотеза о том что конверт в клики у контрольной группы выше равенстве\n",
    "# долей не принимается. Тест статистически повлиял на конверт в клики."
   ]
  },
  {
   "cell_type": "markdown",
   "metadata": {},
   "source": [
    "Исключим source = maz.com / referra"
   ]
  },
  {
   "cell_type": "code",
   "execution_count": 48,
   "metadata": {},
   "outputs": [
    {
     "name": "stdout",
     "output_type": "stream",
     "text": [
      "l p-value:  0.999613\n",
      "g p-value:  0.020688\n"
     ]
    }
   ],
   "source": [
    "p_1 = np.array([data_2.iloc[0][1], data_2.iloc[1][1]])\n",
    "n_1 = np.array([data_2.iloc[0][2], data_2.iloc[1][2]])\n",
    "q_1 = n_1 - p_1\n",
    "res = stats.fisher_exact([ p, q], alternative = 'less')\n",
    "print('l p-value: ', round(res[1],6))\n",
    "res = stats.fisher_exact([ p_1, q_1], alternative = 'greater')\n",
    "print('g p-value: ', round(res[1],6))"
   ]
  },
  {
   "cell_type": "markdown",
   "metadata": {},
   "source": [
    "При   𝛼 = 0.05  изменения статистически уменьшили конверт в клики."
   ]
  },
  {
   "cell_type": "markdown",
   "metadata": {},
   "source": [
    "#### Итог\n",
    "  Конверт в реги у тестовой группы уменьшился"
   ]
  },
  {
   "cell_type": "markdown",
   "metadata": {},
   "source": [
    "## Итог\n",
    "\n",
    "Целью эксперемента было зацепить пользователя и не дать ему уйти с сайта.\n",
    "\n",
    "Проведя анализ эксперемента получили, что статистически уменьшилась коверсия в клики на главном экране. При этом увеличилось, среднее время проведенное на сайте.\n",
    "В зависимости от того, какая метрика для бизнеса важнее, будет принято решение о том, принимать изменения или нет."
   ]
  }
 ],
 "metadata": {
  "kernelspec": {
   "display_name": "Python 3",
   "language": "python",
   "name": "python3"
  },
  "language_info": {
   "codemirror_mode": {
    "name": "ipython",
    "version": 3
   },
   "file_extension": ".py",
   "mimetype": "text/x-python",
   "name": "python",
   "nbconvert_exporter": "python",
   "pygments_lexer": "ipython3",
   "version": "3.8.3"
  },
  "toc": {
   "base_numbering": 1,
   "nav_menu": {},
   "number_sections": true,
   "sideBar": true,
   "skip_h1_title": false,
   "title_cell": "Table of Contents",
   "title_sidebar": "Contents",
   "toc_cell": false,
   "toc_position": {
    "height": "calc(100% - 180px)",
    "left": "10px",
    "top": "150px",
    "width": "204.583px"
   },
   "toc_section_display": true,
   "toc_window_display": true
  }
 },
 "nbformat": 4,
 "nbformat_minor": 4
}
